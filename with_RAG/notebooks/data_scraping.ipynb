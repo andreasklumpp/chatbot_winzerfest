{
 "cells": [
  {
   "cell_type": "markdown",
   "id": "775c2f72",
   "metadata": {},
   "source": [
    "# Webscraping\n",
    "In this step we will scrape the relevant information from the website to provide it to our RAG."
   ]
  },
  {
   "cell_type": "code",
   "execution_count": 1,
   "id": "bd2856fe",
   "metadata": {},
   "outputs": [],
   "source": [
    "import requests\n",
    "from bs4 import BeautifulSoup\n"
   ]
  },
  {
   "cell_type": "code",
   "execution_count": 27,
   "id": "ff3d2d2b",
   "metadata": {},
   "outputs": [],
   "source": [
    "from tokenize import group\n",
    "\n",
    "\n",
    "def scrape_website_for_offers(url):\n",
    "    response = requests.get(url)\n",
    "    soup = BeautifulSoup(response.content, 'html.parser')\n",
    "\n",
    "    # Find relevant divs\n",
    "    relevant_divs = soup.find_all(\"div\", class_=\"zmitem\")\n",
    "\n",
    "    grouped_content = []\n",
    "\n",
    "    for item in relevant_divs:\n",
    "        paragraphs = item.find_all([\"p\", \"span\"])\n",
    "        item_text = \"\\n\".join([p.get_text().strip() for p in paragraphs])\n",
    "\n",
    "        grouped_content.append(item_text)\n",
    "    \n",
    "    if grouped_content:\n",
    "        return \"\\n\\n---NEW ITEM---\".join(grouped_content)\n",
    "    else: \n",
    "        return \"\"\n",
    "\n",
    "# Define the URL of the website to scrape\n",
    "offer_url_page1 = 'https://www.besigheim.de/kultur-und-tourismus/besigheimer-winzerfest-2025/staende+datenbank'\n",
    "offer_url_page2 = 'https://www.besigheim.de/site/Besigheim-2023/node/23823496/page2/page2?zm.sid=zmc27esqnht1'\n",
    "offer_url_page3 = 'https://www.besigheim.de/site/Besigheim-2023/node/23823496/page3/page3?zm.sid=zmc27esqnht1'\n",
    "\n",
    "offers = scrape_website_for_offers(offer_url_page1)\n",
    "offers += scrape_website_for_offers(offer_url_page2)\n",
    "offers += scrape_website_for_offers(offer_url_page3)\n"
   ]
  },
  {
   "cell_type": "code",
   "execution_count": 28,
   "id": "b008cfbe",
   "metadata": {},
   "outputs": [],
   "source": [
    "offers_document = {\"content\": offers, \"source\": \"Stände\"}"
   ]
  },
  {
   "cell_type": "code",
   "execution_count": 29,
   "id": "cb5bb9ef",
   "metadata": {},
   "outputs": [
    {
     "data": {
      "text/plain": [
       "{'content': '01\\nGenusskonzept GmbH & Co.KG\\nA Freitag, B Samstag, C Sonntag, D Montag\\nA Freitag, B Samstag, C Sonntag, D Montag\\nAuf dem Kelterplatz\\n\\nAngebot\\nImbissgerichte, schwäbisch\\n\\n---NEW ITEM---02\\nGenusskonzept GmbH & Co.KG\\nA Freitag, B Samstag, C Sonntag, D Montag, Gewölbekeller, Musik\\nA Freitag, B Samstag, C Sonntag, D Montag, Gewölbekeller, Musik\\nFASSKELLER\\nAngebot\\nGetränke\\nMusik\\nBands und DJ\\n\\n---NEW ITEM---03\\nChorgemeinschaft Besigheim\\nC Sonntag\\nC Sonntag\\nVereinszimmer Alte Kelter\\nAngebot\\nKaffee + Kuchen von 14 bis 17 Uhr\\n\\n---NEW ITEM---04\\nTSV Ottmarsheim, EK Besigheim Handball e.V., RSV Besigheim, HHC Walheim-Besigheim, Spvgg Besigheim, Chorgemeinschaft Besigheim\\nA Freitag, B Samstag, Bühne, C Sonntag, D Montag, Musik, Weinprobierstand\\nA Freitag, B Samstag, Bühne, C Sonntag, D Montag, Musik, Weinprobierstand\\nWeindorf unterm Schirm\\nKelterplatz\\nAngebot\\n6 Weinstände mit unterschiedlichen Weinen der Felsengartenkellerei + Champagner aus Ay\\nMusik\\nFr: Musikverein Stadtkapelle Besigheim, Band Campus, Sa: Musikverein Mundelsheim, So: verschiedene Musikkapellen, Akkordeonverein Ingersheim, Mo: Band Confect\\n\\n---NEW ITEM---05\\nLaganini\\nA Freitag, B Samstag, C Sonntag, D Montag\\nA Freitag, B Samstag, C Sonntag, D Montag\\nHauptstraße, beim Kelterplatz\\nGrillspezialitäten\\nAngebot\\nGrillspezialitäten\\n\\n---NEW ITEM---06\\nFörderverein Volleyball Besigheim\\nA Freitag, B Samstag, C Sonntag, D Montag, Weinprobierstand\\nA Freitag, B Samstag, C Sonntag, D Montag, Weinprobierstand\\nEingang Kirchstraße\\nEingang Kirchstraße\\nAngebot\\nPremiumweine der FGK\\n\\n---NEW ITEM---07\\nEiscafé Bataja\\nA Freitag, B Samstag, C Sonntag, D Montag\\nA Freitag, B Samstag, C Sonntag, D Montag\\nEingang Kirchstraße\\nAngebot\\nEisspezialitäten\\n\\n---NEW ITEM---08\\nSpvgg Besigheim Abt. Fußball\\nA Freitag, B Samstag, C Sonntag, D Montag, Weinprobierstand\\nA Freitag, B Samstag, C Sonntag, D Montag, Weinprobierstand\\nWeinprobierstand\\nMusik\\nHintergrundmusik\\n\\n---NEW ITEM---09\\nTennisclub Besigheim\\nA Freitag, B Samstag, C Sonntag, D Montag, Weinprobierstand\\nA Freitag, B Samstag, C Sonntag, D Montag, Weinprobierstand\\nHöhe Kischtraße 3\\nAngebot\\nWeinprobierstand und Waffeln\\n\\n---NEW ITEM---10\\nKöftem & Co.\\nA Freitag, B Samstag, C Sonntag, D Montag\\nA Freitag, B Samstag, C Sonntag, D Montag\\nHöhe Kirchstraße 3\\nAngebot\\nKöfte-Brot/Sucuk-Brot/Grillgemüse-Brot, Pommes\\n\\n---NEW ITEM---11\\nPartnerschaftsausschuss Besigheim\\nA Freitag, B Samstag, C Sonntag, D Montag\\nA Freitag, B Samstag, C Sonntag, D Montag\\nKirchstraße 10\\nAngebot\\nChampagner aus AY\\n\\n---NEW ITEM---12\\nBerne´s Bier- und Weinbar\\nA Freitag, B Samstag, C Sonntag, D Montag\\nA Freitag, B Samstag, C Sonntag, D Montag\\nKirchstraße 15 vor Altstadthotel\\nAngebot\\nMaultaschen\\n\\n---NEW ITEM---13\\nRestaurant Hirsch\\nA Freitag, B Samstag, C Sonntag, D Montag\\nA Freitag, B Samstag, C Sonntag, D Montag\\nKirchstraße 16, vor Gaststätte\\nAngebot\\nWinzerbrot, Kartoffeln mit Quark, Pommes\\n\\n---NEW ITEM---14\\nReservistenkameradschaft  Besigheim\\nA Freitag, B Samstag, C Sonntag, D Montag\\nA Freitag, B Samstag, C Sonntag, D Montag\\nKirchstraße 19\\n\\nAngebot\\nRote Wurst und Bratwurst vom heimischem Wild aus dem Stromberg\\n\\n---NEW ITEM---15\\nGrill- und Kulturverein  Winzerbeatz\\nA Freitag, B Samstag, C Sonntag, D Montag, Gewölbekeller, Musik, Weinprobierstand\\nA Freitag, B Samstag, C Sonntag, D Montag, Gewölbekeller, Musik, Weinprobierstand\\nKirchstraße 21\\nAngebot\\nWeinprobierstand\\nMusik\\nMusik der 80er- und 90er Jahre\\n\\n---NEW ITEM---16\\nDLRG Besigheim-Walheim\\nA Freitag, B Samstag, C Sonntag, D Montag, Weinprobierstand\\nA Freitag, B Samstag, C Sonntag, D Montag, Weinprobierstand\\nEcke Kirch-/Aiperturmstraße\\nAngebot\\nWeinprobierstand\\n\\n---NEW ITEM---17\\nGaststätte Ratsstüble\\nA Freitag, B Samstag, C Sonntag, D Montag\\nA Freitag, B Samstag, C Sonntag, D Montag\\nvor Gaststätte Ratsstüble\\nAngebot\\nSpanferkelbraten an Trollingersauce mit Spätzle und Salat, Linsen mit Spätzle und Saitenwürste\\n\\n---NEW ITEM---18\\nM. Mayer & Söhne Erligheim\\nA Freitag, B Samstag, C Sonntag, D Montag\\nA Freitag, B Samstag, C Sonntag, D Montag\\nKirchstraße, neben Ratsstüble\\nAngebot\\nSüßwaren, Mandelbrennerei\\n\\n---NEW ITEM---19\\nMarktwirtschaft\\nA Freitag, B Samstag, C Sonntag, D Montag, Weinprobierstand\\nA Freitag, B Samstag, C Sonntag, D Montag, Weinprobierstand\\nMarktplatz\\nAngebot\\nÁ la Carte, Cocktails\\n\\n---NEW ITEM---20\\nSkully‘s Grill\\nA Freitag, B Samstag, C Sonntag, D Montag\\nA Freitag, B Samstag, C Sonntag, D Montag\\nMarktplatz\\nAngebot\\nPutensteak, Schweinesteak, Rote Wurst, Wikinger-Wurst, Currywurst, Pommes, u. m.\\n\\n---NEW ITEM---21\\nLangosLiebe\\nA Freitag, B Samstag, C Sonntag, D Montag\\nA Freitag, B Samstag, C Sonntag, D Montag\\nMarktplatz\\nAngebot\\nLangos in allen Variationen\\n\\n---NEW ITEM---22\\nTennisclub Ottmarsheim\\nA Freitag, B Samstag, C Sonntag, Weinprobierstand\\nA Freitag, B Samstag, C Sonntag, Weinprobierstand\\nInnenhof beim Rathaus\\nAngebot\\nWein- und Sektprobierstand, So: Kaffee + Kuchen\\n\\n---NEW ITEM---23\\nHotel am Markt\\nA Freitag, B Samstag, C Sonntag, D Montag\\nA Freitag, B Samstag, C Sonntag, D Montag\\nim Innenhof\\nAngebot\\nRacletttebrot\\n\\n---NEW ITEM---24\\nPizza Tre Amici\\nA Freitag, B Samstag, C Sonntag, D Montag\\nA Freitag, B Samstag, C Sonntag, D Montag\\nvor Café Anker\\nAngebot\\nPizza25\\nL‘Ancora\\nA Freitag, B Samstag, C Sonntag, D Montag, Musik\\nA Freitag, B Samstag, C Sonntag, D Montag, Musik\\nvor Café Anker\\nAngebot\\nPinsa, Arancini, Spaghetti im Käseleib\\nMusik\\nDJ-Musik am Samstag\\n\\n---NEW ITEM---26\\nSpVgg Besigheim, Abteilung Tischtennis\\nA Freitag, B Samstag, C Sonntag, D Montag, Weinprobierstand\\nA Freitag, B Samstag, C Sonntag, D Montag, Weinprobierstand\\nSchlosshof\\nAngebot\\nWeinprobierstand\\n\\n---NEW ITEM---27\\nPasta & Vino\\nA Freitag, B Samstag, C Sonntag, D Montag, Musik\\nA Freitag, B Samstag, C Sonntag, D Montag, Musik\\nSchlosshof\\nAngebot\\nArancini, Salsiccia im Brötchen\\nMusik\\nMusik\\n\\n---NEW ITEM---28\\nLangos König\\nA Freitag, B Samstag, C Sonntag, D Montag\\nA Freitag, B Samstag, C Sonntag, D Montag\\nKirchstraße 34\\nAngebot\\nVerschiedene Langos, Kartoffelspirale\\n\\n---NEW ITEM---29\\nTrägerverein Pfingstfreizeit\\nA Freitag, B Samstag, C Sonntag, D Montag\\nA Freitag, B Samstag, C Sonntag, D Montag\\nKirchstraße 63\\nAngebot\\nRote Wurst, Winzerweck\\n\\n---NEW ITEM---31\\nSkizunft Besigheim\\nA Freitag, B Samstag, C Sonntag, D Montag, Weinprobierstand\\nA Freitag, B Samstag, C Sonntag, D Montag, Weinprobierstand\\nKichstraße 75\\nAngebot\\nWeinprobierstand\\n\\n---NEW ITEM---32\\nGrill- und Kulturverein Winzerbeatz\\nA Freitag, B Samstag, C Sonntag, D Montag, Musik, Weinprobierstand\\nA Freitag, B Samstag, C Sonntag, D Montag, Musik, Weinprobierstand\\nHof der Schule am Steinhaus\\nAngebot\\nWinzersteak mit geschmälzten Zwiebeln, Rote Wurst, Thüringer Wurst, Maultaschen; So: Heringsweck\\nMusik\\nFr.: Schimmelgefahr Sa.: Winzerbeats DJ Elektronische Musik So.: Highway 61 Mo.: DJ 90er-Jahre-Hits\\n\\n---NEW ITEM---33\\nEvangelische Kirchengemeinde  Besigheim\\nA Freitag, B Samstag, C Sonntag, Gewölbekeller\\nA Freitag, B Samstag, C Sonntag, Gewölbekeller\\nDekanatskeller und Kirchgarten\\nAngebot\\nSektbar und herzhafte Snacks; So: Kuchen\\n\\n---NEW ITEM---34\\nBraubruderschaft Besigheim\\nA Freitag, B Samstag, C Sonntag\\nA Freitag, B Samstag, C Sonntag\\nPfarrgasse 14\\nAngebot\\nGetränke\\n\\n---NEW ITEM---35\\nBraubruderschaft Besigheim\\nA Freitag, B Samstag, C Sonntag, Gewölbekeller, Musik\\nA Freitag, B Samstag, C Sonntag, Gewölbekeller, Musik\\nGlück-auf-Keller\\nAngebot\\nGetränke\\nMusik\\nFr: Horny Lulu, Sa: Potatoes, Mo: Mensch Maschine\\n\\n---NEW ITEM---36\\nEK Besigheim Handball\\nA Freitag, B Samstag, C Sonntag, D Montag, Weinprobierstand\\nA Freitag, B Samstag, C Sonntag, D Montag, Weinprobierstand\\nHof neben der Stadtkirche\\nAngebot\\nAusschankwagen\\n\\n---NEW ITEM---37\\nEK Besigheim Handball\\nA Freitag, B Samstag, Bühne, C Sonntag, D Montag, Gewölbekeller, Musik, Weinprobierstand\\nA Freitag, B Samstag, Bühne, C Sonntag, D Montag, Gewölbekeller, Musik, Weinprobierstand\\nSteinhauskeller + Steinhausgarten\\nAngebot\\nWurst vom Grill, So: Linsen mit Spätzle und Kaffee und Kuchen\\nMusik\\nSa./So.: Krämers Kit\\n\\n---NEW ITEM---38\\nGecco-Events\\nA Freitag, B Samstag, C Sonntag, D Montag, Musik\\nA Freitag, B Samstag, C Sonntag, D Montag, Musik\\nAuf der Mauer\\nAngebot\\nAusschankwagen\\nMusik\\nChillout und DJ\\n\\n---NEW ITEM---39\\nGecco Events\\nB Samstag\\nB Samstag\\nEnzbrücke\\nAngebot\\nGetränke während Fischerstechen, Sa 11-16 Uhr\\n\\n---NEW ITEM---40\\nEnzBar\\nA Freitag, B Samstag, C Sonntag, D Montag\\nA Freitag, B Samstag, C Sonntag, D Montag\\nBierausschank\\nAngebot\\nGetränke, Speisen\\n\\n---NEW ITEM---41\\nFoodtrucker - Holzofen\\nA Freitag, B Samstag, C Sonntag, D Montag\\nA Freitag, B Samstag, C Sonntag, D Montag\\nHauptstraße 4\\nAngebot\\nVegetarische und herzhafte Dinkele, Pizza, Stockbrot, Apfel-Zucker-Zimt-Schnecken\\n\\n---NEW ITEM---42\\nLami‘s Langos\\nA Freitag, B Samstag, C Sonntag, D Montag\\nA Freitag, B Samstag, C Sonntag, D Montag\\nHauptstraße 8unter den Arkaden\\nAngebot\\nUngarische Langos\\n\\n---NEW ITEM---43\\nSkateboardverein Besigheim\\nA Freitag, B Samstag, C Sonntag, D Montag, Weinprobierstand\\nA Freitag, B Samstag, C Sonntag, D Montag, Weinprobierstand\\nHauptstraße 17\\nAngebot\\nWeinprobierstand\\n\\n---NEW ITEM---44\\nEylem Baskaya\\nA Freitag, B Samstag, C Sonntag, D Montag\\nA Freitag, B Samstag, C Sonntag, D Montag\\nHauptstraße 21\\nAngebot\\nTürkische Spezialitäten, alkoholfreie Getränke\\n\\n---NEW ITEM---45\\nSpVgg Besigheim, Abteilung Fußball\\nA Freitag, B Samstag, C Sonntag, D Montag, Weinprobierstand\\nA Freitag, B Samstag, C Sonntag, D Montag, Weinprobierstand\\nHauptstraße 14\\nAngebot\\nWeinprobierstand\\n\\n---NEW ITEM---46\\nSportschützenverein Besigheim\\nA Freitag, B Samstag, C Sonntag, D Montag, Weinprobierstand\\nA Freitag, B Samstag, C Sonntag, D Montag, Weinprobierstand\\nHauptstraße 22\\nAngebot\\nWeinprobierstand\\n\\n---NEW ITEM---47\\nMusikverein Stadtkapelle Besigheim\\nA Freitag, B Samstag, C Sonntag, D Montag, Weinprobierstand\\nA Freitag, B Samstag, C Sonntag, D Montag, Weinprobierstand\\nHauptstraße vor Bäckerei Übele\\nAngebot\\nWeinprobierstand und Waffeln\\n\\n---NEW ITEM---48\\nMetzgerei Herbst\\nA Freitag, B Samstag, C Sonntag, D Montag\\nA Freitag, B Samstag, C Sonntag, D Montag\\nStand zwischen Hauptstraße und Metzgerei Herbst\\nAngebot\\nRote Wurst, Winzerbratwurst, Fleischbrot, Schnitzel, Kartoffelsalat, Pommes; So. ab 11 Uhr: Rindergulasch mit Spätzle, Berner Pfanne, Schweinegeschnetzeltes\\n\\n---NEW ITEM---49\\nCasablanca\\nA Freitag, B Samstag, C Sonntag, D Montag\\nA Freitag, B Samstag, C Sonntag, D Montag\\nvor Metzgerei Herbst\\nAngebot\\nRote mit Brötchen50\\nLa Storia\\nA Freitag, B Samstag, C Sonntag, D Montag, Musik\\nA Freitag, B Samstag, C Sonntag, D Montag, Musik\\nvor der Gaststätte\\nAngebot\\nPasta aus dem Käselaib, Pinsa, Taccos, gegrillter Oktopus\\nMusik\\nDJ-Live-Musik\\n\\n---NEW ITEM---51\\nBistro Adria\\nA Freitag, B Samstag, C Sonntag, D Montag\\nA Freitag, B Samstag, C Sonntag, D Montag\\nHauptstraße 22\\n\\nAngebot\\nGetränke, Crêpes, Softeis, Wilde Kartoffeln, Chicken Nuggets, Burger, Pommes\\n\\n---NEW ITEM---52\\nFreiwillige Feuerwehr Besigheim\\nA Freitag, B Samstag, C Sonntag, D Montag, Weinprobierstand\\nA Freitag, B Samstag, C Sonntag, D Montag, Weinprobierstand\\nHauptstraße vor Schuh Stella\\nAngebot\\nWeinprobierstand\\n\\n---NEW ITEM---53\\nCafé Misch-Masch\\nA Freitag, B Samstag, C Sonntag, D Montag, Weinprobierstand\\nA Freitag, B Samstag, C Sonntag, D Montag, Weinprobierstand\\nHauptstraße 45\\n\\nAngebot\\nKässpätzle, Saiten mit Kartoffelsalat, Currywurst mit Pommes\\n\\n---NEW ITEM---54\\nM. Mayer & Söhne Erligheim\\nA Freitag, B Samstag, C Sonntag, D Montag\\nA Freitag, B Samstag, C Sonntag, D Montag\\nKelterplatz\\nAngebot\\nSüßwaren, Mandelbrennerei\\n\\n---NEW ITEM---61\\nBackhausverein Vorstadt\\nA Freitag, B Samstag, C Sonntag, D Montag\\nA Freitag, B Samstag, C Sonntag, D Montag\\nbeim Backhaus\\nAngebot\\nWinzerfladen und Kartoffelkuchen aus dem Backhaus, Flachswickel\\nMusik\\nSa: Die kleine Brenz-Band \"MakelLos\"',\n",
       " 'source': 'Stände'}"
      ]
     },
     "execution_count": 29,
     "metadata": {},
     "output_type": "execute_result"
    }
   ],
   "source": [
    "offers_document"
   ]
  },
  {
   "cell_type": "code",
   "execution_count": 30,
   "id": "33389eb0",
   "metadata": {},
   "outputs": [
    {
     "name": "stdout",
     "output_type": "stream",
     "text": [
      "Data saved to:\n",
      "- data/scraped_offers.json (structured format with metadata)\n",
      "- data/scraped_offers.txt (plain text format)\n",
      "Total characters scraped: 11614\n"
     ]
    }
   ],
   "source": [
    "import json\n",
    "\n",
    "# Save offers as JSON (structured format)\n",
    "with open('data/scraped_offers.json', 'w', encoding='utf-8') as f:\n",
    "    json.dump(offers_document, f, ensure_ascii=False, indent=2)\n",
    "\n",
    "# Save offers as plain text (easy to read)\n",
    "with open('data/scraped_offers.txt', 'w', encoding='utf-8') as f:\n",
    "    f.write(offers)\n",
    "\n",
    "print(\"Data saved to:\")\n",
    "print(\"- data/scraped_offers.json (structured format with metadata)\")\n",
    "print(\"- data/scraped_offers.txt (plain text format)\")\n",
    "print(f\"Total characters scraped: {len(offers)}\")"
   ]
  },
  {
   "cell_type": "markdown",
   "id": "448a6a61",
   "metadata": {},
   "source": [
    "# Loading PDF files and transforming to text"
   ]
  },
  {
   "cell_type": "code",
   "execution_count": 31,
   "id": "9c1067b8",
   "metadata": {},
   "outputs": [],
   "source": [
    "from pypdf import PdfReader"
   ]
  },
  {
   "cell_type": "code",
   "execution_count": 32,
   "id": "699b51db",
   "metadata": {},
   "outputs": [
    {
     "name": "stderr",
     "output_type": "stream",
     "text": [
      "Ignoring wrong pointing object 6 0 (offset 0)\n",
      "Ignoring wrong pointing object 8 0 (offset 0)\n",
      "Ignoring wrong pointing object 27 0 (offset 0)\n",
      "Ignoring wrong pointing object 60 0 (offset 0)\n"
     ]
    }
   ],
   "source": [
    "reader = PdfReader(\"data/programm_focused.pdf\")\n",
    "program = \"\"\n",
    "\n",
    "for page in reader.pages: \n",
    "        text = page.extract_text()\n",
    "        if text:\n",
    "            program += text\n"
   ]
  },
  {
   "cell_type": "code",
   "execution_count": 35,
   "id": "85e2fb15",
   "metadata": {},
   "outputs": [],
   "source": [
    "program_document = {\"content\": program, \"source\": \"Programm\"}"
   ]
  },
  {
   "cell_type": "code",
   "execution_count": null,
   "id": "ab125c71",
   "metadata": {},
   "outputs": [],
   "source": [
    "# Save program as JSON (structured format)\n",
    "with open('../data/program.json', 'w', encoding='utf-8') as f:\n",
    "    json.dump(program_document, f, ensure_ascii=False, indent=2)\n",
    "\n",
    "# Save program as plain text (easy to read)\n",
    "with open('../data/program.txt', 'w', encoding='utf-8') as f:\n",
    "    f.write(program)"
   ]
  },
  {
   "cell_type": "code",
   "execution_count": null,
   "id": "1978d644",
   "metadata": {},
   "outputs": [],
   "source": []
  }
 ],
 "metadata": {
  "kernelspec": {
   "display_name": "My Python 3.12 venv winzerfest RAG",
   "language": "python",
   "name": "my-3.12-env"
  },
  "language_info": {
   "codemirror_mode": {
    "name": "ipython",
    "version": 3
   },
   "file_extension": ".py",
   "mimetype": "text/x-python",
   "name": "python",
   "nbconvert_exporter": "python",
   "pygments_lexer": "ipython3",
   "version": "3.12.11"
  }
 },
 "nbformat": 4,
 "nbformat_minor": 5
}
